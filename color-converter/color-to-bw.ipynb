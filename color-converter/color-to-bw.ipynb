{
 "cells": [
  {
   "cell_type": "code",
   "execution_count": 1,
   "metadata": {},
   "outputs": [],
   "source": [
    "import numpy as np\n",
    "from PIL import Image, ImageFilter\n",
    "\n",
    "def convert_and_save_image(input_path, output_path):\n",
    "    im = Image.open(input_path)\n",
    "    data = np.array(im)\n",
    "\n",
    "    mappings = [\n",
    "        [244, 192, 156, 10, 10, 10], #orange\n",
    "        [255, 161, 90, 10, 10, 10], #orange\n",
    "        [171, 99, 250, 76, 80, 80],#violet\n",
    "        [0, 204, 150, 225,225,225], #green\n",
    "        [238, 97, 74, 167, 167, 167], #red\n",
    "        [239, 85, 59, 167, 167, 167], #red\n",
    "        #we do not convert blue\n",
    "        #[104,114,250, 225,225,225], #blue\n",
    "        #[99, 110, 250, 225,225,225], #blue\n",
    "        #[203, 210, 246, 225,225,225], #blue\n",
    "        #[104, 114, 250, 225,225,225], #blue\n",
    "    ]\n",
    "\n",
    "    for mapping in mappings:\n",
    "        r1, g1, b1, r2, g2, b2 = mapping\n",
    "        red, green, blue = data[:, :, 0], data[:, :, 1], data[:, :, 2]\n",
    "        mask1 = (red == r1) & (green == g1) & (blue == b1)\n",
    "        mask2 = (red == r2) & (green == g2) & (blue == b2)\n",
    "        data[:, :, :3][mask1] = [r2, g2, b2]\n",
    "        data[:, :, :3][mask2] = [r1, g1, b1]\n",
    "\n",
    "    im = Image.fromarray(data)\n",
    "    w, h = im.size\n",
    "    # im = im.resize((w // 2, h // 2), resample=Image.LANCZOS)\n",
    "    im = im.convert(\"L\")\n",
    "    im.save(output_path)\n",
    "\n",
    "# Example usage:\n",
    "input_path = 'french topics.png'\n",
    "output_path = input_path[:-4] + '-bw-version.png'\n",
    "convert_and_save_image(input_path, output_path)\n",
    "\n",
    "input_path = 'uk topics.png'\n",
    "output_path = input_path[:-4] + '-bw-version.png'\n",
    "convert_and_save_image(input_path, output_path)"
   ]
  },
  {
   "cell_type": "code",
   "execution_count": 2,
   "metadata": {},
   "outputs": [],
   "source": [
    "input_path = 'french diachronic.png'\n",
    "output_path = input_path[:-4] + '-bw-version.png'\n",
    "convert_and_save_image(input_path, output_path)\n",
    "\n",
    "input_path = 'uk diachronic.png'\n",
    "output_path = input_path[:-4] + '-bw-version.png'\n",
    "convert_and_save_image(input_path, output_path)"
   ]
  }
 ],
 "metadata": {
  "kernelspec": {
   "display_name": "left-center-right",
   "language": "python",
   "name": "python3"
  },
  "language_info": {
   "codemirror_mode": {
    "name": "ipython",
    "version": 3
   },
   "file_extension": ".py",
   "mimetype": "text/x-python",
   "name": "python",
   "nbconvert_exporter": "python",
   "pygments_lexer": "ipython3",
   "version": "3.8.18"
  }
 },
 "nbformat": 4,
 "nbformat_minor": 2
}
