{
 "metadata": {
  "language_info": {
   "codemirror_mode": {
    "name": "ipython",
    "version": 3
   },
   "file_extension": ".py",
   "mimetype": "text/x-python",
   "name": "python",
   "nbconvert_exporter": "python",
   "pygments_lexer": "ipython3",
   "version": "3.8.5-final"
  },
  "orig_nbformat": 2,
  "kernelspec": {
   "name": "python3",
   "display_name": "Python 3"
  }
 },
 "nbformat": 4,
 "nbformat_minor": 2,
 "cells": [
  {
   "source": [
    "**Assign the best possible scheduling to match participants with their preferences**"
   ],
   "cell_type": "markdown",
   "metadata": {}
  },
  {
   "cell_type": "code",
   "execution_count": 1,
   "metadata": {},
   "outputs": [],
   "source": [
    "# list of participants and their choices\n",
    "participants = {'Jonathan':[1, 2, 3], 'Michael':[3, 2, 1], 'Nishan':[1, 2, 4], 'Terlo':[4, 2, 3]}"
   ]
  },
  {
   "cell_type": "code",
   "execution_count": 2,
   "metadata": {},
   "outputs": [],
   "source": [
    "from itertools import chain\n",
    "\n",
    "# generate the list of unique preferences possible\n",
    "preferences = list(set(chain(*[*participants.values()])))"
   ]
  },
  {
   "cell_type": "code",
   "execution_count": 3,
   "metadata": {},
   "outputs": [],
   "source": [
    "from itertools import cycle\n",
    "\n",
    "def repeat_list(add_list, repeats, total):\n",
    "    new_list = []\n",
    "    stack = cycle(add_list)\n",
    "    for item in stack:\n",
    "        new_list.extend([item]*repeats)\n",
    "        if len(new_list) == total:\n",
    "            break\n",
    "    return new_list"
   ]
  },
  {
   "cell_type": "code",
   "execution_count": 4,
   "metadata": {},
   "outputs": [],
   "source": [
    "import pandas as pd\n",
    "\n",
    "# total combinations\n",
    "total = 3**len(preferences)\n",
    "repeats = int(total/3) # initial condition\n",
    "\n",
    "# create exhaustive list of all choices\n",
    "all_choices = pd.DataFrame()\n",
    "\n",
    "for index, value in zip(participants.keys(), participants.values()):\n",
    "    all_choices[index] = repeat_list(value, repeats, total)\n",
    "    repeats = int(repeats/3)"
   ]
  },
  {
   "cell_type": "code",
   "execution_count": 5,
   "metadata": {},
   "outputs": [],
   "source": [
    "# drop all trivial choices\n",
    "trivial_indices = []\n",
    "\n",
    "for index, rows in all_choices.iterrows():\n",
    "    if len(set(list(rows))) != len(rows):\n",
    "        trivial_indices.append(index)\n",
    "\n",
    "non_trivial_choices = all_choices.drop(trivial_indices).reset_index(drop=True)"
   ]
  },
  {
   "source": [
    "**A lower score is a better score.**"
   ],
   "cell_type": "markdown",
   "metadata": {}
  },
  {
   "cell_type": "code",
   "execution_count": 6,
   "metadata": {},
   "outputs": [
    {
     "output_type": "execute_result",
     "data": {
      "text/plain": [
       "   Jonathan  Michael  Nishan  Terlo  Score\n",
       "0         1        3       2      4      1\n",
       "3         2        3       1      4      1\n",
       "1         1        3       4      2      3\n",
       "5         3        2       1      4      3\n",
       "2         1        2       4      3      5\n",
       "6         3        1       2      4      5\n",
       "4         2        1       4      3      7\n",
       "7         3        1       4      2      7"
      ],
      "text/html": "<div>\n<style scoped>\n    .dataframe tbody tr th:only-of-type {\n        vertical-align: middle;\n    }\n\n    .dataframe tbody tr th {\n        vertical-align: top;\n    }\n\n    .dataframe thead th {\n        text-align: right;\n    }\n</style>\n<table border=\"1\" class=\"dataframe\">\n  <thead>\n    <tr style=\"text-align: right;\">\n      <th></th>\n      <th>Jonathan</th>\n      <th>Michael</th>\n      <th>Nishan</th>\n      <th>Terlo</th>\n      <th>Score</th>\n    </tr>\n  </thead>\n  <tbody>\n    <tr>\n      <th>0</th>\n      <td>1</td>\n      <td>3</td>\n      <td>2</td>\n      <td>4</td>\n      <td>1</td>\n    </tr>\n    <tr>\n      <th>3</th>\n      <td>2</td>\n      <td>3</td>\n      <td>1</td>\n      <td>4</td>\n      <td>1</td>\n    </tr>\n    <tr>\n      <th>1</th>\n      <td>1</td>\n      <td>3</td>\n      <td>4</td>\n      <td>2</td>\n      <td>3</td>\n    </tr>\n    <tr>\n      <th>5</th>\n      <td>3</td>\n      <td>2</td>\n      <td>1</td>\n      <td>4</td>\n      <td>3</td>\n    </tr>\n    <tr>\n      <th>2</th>\n      <td>1</td>\n      <td>2</td>\n      <td>4</td>\n      <td>3</td>\n      <td>5</td>\n    </tr>\n    <tr>\n      <th>6</th>\n      <td>3</td>\n      <td>1</td>\n      <td>2</td>\n      <td>4</td>\n      <td>5</td>\n    </tr>\n    <tr>\n      <th>4</th>\n      <td>2</td>\n      <td>1</td>\n      <td>4</td>\n      <td>3</td>\n      <td>7</td>\n    </tr>\n    <tr>\n      <th>7</th>\n      <td>3</td>\n      <td>1</td>\n      <td>4</td>\n      <td>2</td>\n      <td>7</td>\n    </tr>\n  </tbody>\n</table>\n</div>"
     },
     "metadata": {},
     "execution_count": 6
    }
   ],
   "source": [
    "# scoring function\n",
    "scores = []\n",
    "for index, rows in non_trivial_choices.iterrows():\n",
    "    score = 0\n",
    "    participant = iter(participants)\n",
    "    for row_index in rows:\n",
    "        next_participant = next(participant)\n",
    "        score += participants[next_participant].index(row_index)\n",
    "    scores.append(score)\n",
    "non_trivial_choices['Score'] = scores\n",
    "non_trivial_choices.sort_values(by='Score', ascending=True)"
   ]
  },
  {
   "cell_type": "code",
   "execution_count": 7,
   "metadata": {},
   "outputs": [
    {
     "output_type": "execute_result",
     "data": {
      "text/plain": [
       "   Jonathan  Michael  Nishan  Terlo  Score\n",
       "3         2        3       1      4      1"
      ],
      "text/html": "<div>\n<style scoped>\n    .dataframe tbody tr th:only-of-type {\n        vertical-align: middle;\n    }\n\n    .dataframe tbody tr th {\n        vertical-align: top;\n    }\n\n    .dataframe thead th {\n        text-align: right;\n    }\n</style>\n<table border=\"1\" class=\"dataframe\">\n  <thead>\n    <tr style=\"text-align: right;\">\n      <th></th>\n      <th>Jonathan</th>\n      <th>Michael</th>\n      <th>Nishan</th>\n      <th>Terlo</th>\n      <th>Score</th>\n    </tr>\n  </thead>\n  <tbody>\n    <tr>\n      <th>3</th>\n      <td>2</td>\n      <td>3</td>\n      <td>1</td>\n      <td>4</td>\n      <td>1</td>\n    </tr>\n  </tbody>\n</table>\n</div>"
     },
     "metadata": {},
     "execution_count": 7
    }
   ],
   "source": [
    "best = non_trivial_choices.loc[non_trivial_choices['Score'] == non_trivial_choices['Score'].min()]\n",
    "best.drop([\"Score\"], axis=1)\n",
    "best.sample() # random choice in case of a tie"
   ]
  }
 ]
}