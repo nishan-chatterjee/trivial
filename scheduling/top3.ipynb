{
 "metadata": {
  "language_info": {
   "codemirror_mode": {
    "name": "ipython",
    "version": 3
   },
   "file_extension": ".py",
   "mimetype": "text/x-python",
   "name": "python",
   "nbconvert_exporter": "python",
   "pygments_lexer": "ipython3",
   "version": "3.8.5-final"
  },
  "orig_nbformat": 2,
  "kernelspec": {
   "name": "python3",
   "display_name": "Python 3"
  }
 },
 "nbformat": 4,
 "nbformat_minor": 2,
 "cells": [
  {
   "source": [
    "**Assign the best possible scheduling to match participants with their preferences**"
   ],
   "cell_type": "markdown",
   "metadata": {}
  },
  {
   "cell_type": "code",
   "execution_count": 1,
   "metadata": {},
   "outputs": [],
   "source": [
    "# list of participants and their choices\n",
    "participants = {'Jonathan':[4, 1, 2], 'Nishan':[1, 2, 3], 'Terlo':[1, 3, 2], 'Michael':[3, 2, 1]}"
   ]
  },
  {
   "cell_type": "code",
   "execution_count": 2,
   "metadata": {},
   "outputs": [],
   "source": [
    "from itertools import chain\n",
    "\n",
    "# generate the list of unique preferences possible\n",
    "preferences = list(set(chain(*[*participants.values()])))"
   ]
  },
  {
   "cell_type": "code",
   "execution_count": 3,
   "metadata": {},
   "outputs": [],
   "source": [
    "from itertools import cycle\n",
    "\n",
    "def repeat_list(add_list, repeats, total):\n",
    "    new_list = []\n",
    "    stack = cycle(add_list)\n",
    "    for item in stack:\n",
    "        new_list.extend([item]*repeats)\n",
    "        if len(new_list) == total:\n",
    "            break\n",
    "    return new_list"
   ]
  },
  {
   "cell_type": "code",
   "execution_count": 4,
   "metadata": {},
   "outputs": [],
   "source": [
    "import pandas as pd\n",
    "\n",
    "# total combinations\n",
    "total = 3**len(preferences)\n",
    "repeats = int(total/3) # initial condition\n",
    "\n",
    "# create exhaustive list of all choices\n",
    "all_choices = pd.DataFrame()\n",
    "\n",
    "for index, value in zip(participants.keys(), participants.values()):\n",
    "    all_choices[index] = repeat_list(value, repeats, total)\n",
    "    repeats = int(repeats/3)"
   ]
  },
  {
   "cell_type": "code",
   "execution_count": 5,
   "metadata": {},
   "outputs": [],
   "source": [
    "# drop all trivial choices\n",
    "trivial_indices = []\n",
    "\n",
    "for index, rows in all_choices.iterrows():\n",
    "    if len(set(list(rows))) != len(rows):\n",
    "        trivial_indices.append(index)\n",
    "\n",
    "non_trivial_choices = all_choices.drop(trivial_indices).reset_index(drop=True)"
   ]
  },
  {
   "source": [
    "**A lower score is a better score.**"
   ],
   "cell_type": "markdown",
   "metadata": {}
  },
  {
   "cell_type": "code",
   "execution_count": 6,
   "metadata": {},
   "outputs": [],
   "source": [
    "def highlight(df, threshold, column):\n",
    "    maximum = pd.Series(data=False, index=df.index)\n",
    "    maximum[column] = df.loc[column] == threshold\n",
    "    return ['background-color: blue' if maximum.any() else '' for value in maximum]"
   ]
  },
  {
   "cell_type": "code",
   "execution_count": 7,
   "metadata": {},
   "outputs": [
    {
     "output_type": "execute_result",
     "data": {
      "text/plain": [
       "<pandas.io.formats.style.Styler at 0x7f1e789ece80>"
      ],
      "text/html": "<style  type=\"text/css\" >\n#T_459de53e_9fda_11eb_a212_ff6356583fe1row0_col0,#T_459de53e_9fda_11eb_a212_ff6356583fe1row0_col1,#T_459de53e_9fda_11eb_a212_ff6356583fe1row0_col2,#T_459de53e_9fda_11eb_a212_ff6356583fe1row0_col3,#T_459de53e_9fda_11eb_a212_ff6356583fe1row0_col4{\n            background-color:  blue;\n        }</style><table id=\"T_459de53e_9fda_11eb_a212_ff6356583fe1\" ><thead>    <tr>        <th class=\"blank level0\" ></th>        <th class=\"col_heading level0 col0\" >Jonathan</th>        <th class=\"col_heading level0 col1\" >Nishan</th>        <th class=\"col_heading level0 col2\" >Terlo</th>        <th class=\"col_heading level0 col3\" >Michael</th>        <th class=\"col_heading level0 col4\" >Score</th>    </tr></thead><tbody>\n                <tr>\n                        <th id=\"T_459de53e_9fda_11eb_a212_ff6356583fe1level0_row0\" class=\"row_heading level0 row0\" >2</th>\n                        <td id=\"T_459de53e_9fda_11eb_a212_ff6356583fe1row0_col0\" class=\"data row0 col0\" >4</td>\n                        <td id=\"T_459de53e_9fda_11eb_a212_ff6356583fe1row0_col1\" class=\"data row0 col1\" >2</td>\n                        <td id=\"T_459de53e_9fda_11eb_a212_ff6356583fe1row0_col2\" class=\"data row0 col2\" >1</td>\n                        <td id=\"T_459de53e_9fda_11eb_a212_ff6356583fe1row0_col3\" class=\"data row0 col3\" >3</td>\n                        <td id=\"T_459de53e_9fda_11eb_a212_ff6356583fe1row0_col4\" class=\"data row0 col4\" >1</td>\n            </tr>\n            <tr>\n                        <th id=\"T_459de53e_9fda_11eb_a212_ff6356583fe1level0_row1\" class=\"row_heading level0 row1\" >0</th>\n                        <td id=\"T_459de53e_9fda_11eb_a212_ff6356583fe1row1_col0\" class=\"data row1 col0\" >4</td>\n                        <td id=\"T_459de53e_9fda_11eb_a212_ff6356583fe1row1_col1\" class=\"data row1 col1\" >1</td>\n                        <td id=\"T_459de53e_9fda_11eb_a212_ff6356583fe1row1_col2\" class=\"data row1 col2\" >3</td>\n                        <td id=\"T_459de53e_9fda_11eb_a212_ff6356583fe1row1_col3\" class=\"data row1 col3\" >2</td>\n                        <td id=\"T_459de53e_9fda_11eb_a212_ff6356583fe1row1_col4\" class=\"data row1 col4\" >2</td>\n            </tr>\n            <tr>\n                        <th id=\"T_459de53e_9fda_11eb_a212_ff6356583fe1level0_row2\" class=\"row_heading level0 row2\" >1</th>\n                        <td id=\"T_459de53e_9fda_11eb_a212_ff6356583fe1row2_col0\" class=\"data row2 col0\" >4</td>\n                        <td id=\"T_459de53e_9fda_11eb_a212_ff6356583fe1row2_col1\" class=\"data row2 col1\" >1</td>\n                        <td id=\"T_459de53e_9fda_11eb_a212_ff6356583fe1row2_col2\" class=\"data row2 col2\" >2</td>\n                        <td id=\"T_459de53e_9fda_11eb_a212_ff6356583fe1row2_col3\" class=\"data row2 col3\" >3</td>\n                        <td id=\"T_459de53e_9fda_11eb_a212_ff6356583fe1row2_col4\" class=\"data row2 col4\" >2</td>\n            </tr>\n            <tr>\n                        <th id=\"T_459de53e_9fda_11eb_a212_ff6356583fe1level0_row3\" class=\"row_heading level0 row3\" >4</th>\n                        <td id=\"T_459de53e_9fda_11eb_a212_ff6356583fe1row3_col0\" class=\"data row3 col0\" >4</td>\n                        <td id=\"T_459de53e_9fda_11eb_a212_ff6356583fe1row3_col1\" class=\"data row3 col1\" >3</td>\n                        <td id=\"T_459de53e_9fda_11eb_a212_ff6356583fe1row3_col2\" class=\"data row3 col2\" >1</td>\n                        <td id=\"T_459de53e_9fda_11eb_a212_ff6356583fe1row3_col3\" class=\"data row3 col3\" >2</td>\n                        <td id=\"T_459de53e_9fda_11eb_a212_ff6356583fe1row3_col4\" class=\"data row3 col4\" >3</td>\n            </tr>\n            <tr>\n                        <th id=\"T_459de53e_9fda_11eb_a212_ff6356583fe1level0_row4\" class=\"row_heading level0 row4\" >3</th>\n                        <td id=\"T_459de53e_9fda_11eb_a212_ff6356583fe1row4_col0\" class=\"data row4 col0\" >4</td>\n                        <td id=\"T_459de53e_9fda_11eb_a212_ff6356583fe1row4_col1\" class=\"data row4 col1\" >2</td>\n                        <td id=\"T_459de53e_9fda_11eb_a212_ff6356583fe1row4_col2\" class=\"data row4 col2\" >3</td>\n                        <td id=\"T_459de53e_9fda_11eb_a212_ff6356583fe1row4_col3\" class=\"data row4 col3\" >1</td>\n                        <td id=\"T_459de53e_9fda_11eb_a212_ff6356583fe1row4_col4\" class=\"data row4 col4\" >4</td>\n            </tr>\n            <tr>\n                        <th id=\"T_459de53e_9fda_11eb_a212_ff6356583fe1level0_row5\" class=\"row_heading level0 row5\" >5</th>\n                        <td id=\"T_459de53e_9fda_11eb_a212_ff6356583fe1row5_col0\" class=\"data row5 col0\" >4</td>\n                        <td id=\"T_459de53e_9fda_11eb_a212_ff6356583fe1row5_col1\" class=\"data row5 col1\" >3</td>\n                        <td id=\"T_459de53e_9fda_11eb_a212_ff6356583fe1row5_col2\" class=\"data row5 col2\" >2</td>\n                        <td id=\"T_459de53e_9fda_11eb_a212_ff6356583fe1row5_col3\" class=\"data row5 col3\" >1</td>\n                        <td id=\"T_459de53e_9fda_11eb_a212_ff6356583fe1row5_col4\" class=\"data row5 col4\" >6</td>\n            </tr>\n    </tbody></table>"
     },
     "metadata": {},
     "execution_count": 7
    }
   ],
   "source": [
    "# scoring function\n",
    "scores = []\n",
    "for index, rows in non_trivial_choices.iterrows():\n",
    "    score = 0\n",
    "    participant = iter(participants)\n",
    "    for row_index in rows:\n",
    "        next_participant = next(participant)\n",
    "        score += participants[next_participant].index(row_index)\n",
    "    scores.append(score)\n",
    "non_trivial_choices['Score'] = scores\n",
    "non_trivial_choices = non_trivial_choices.sort_values(by='Score', ascending=True)\n",
    "non_trivial_choices.style.apply(highlight, threshold=non_trivial_choices['Score'].min(), column='Score', axis=1)"
   ]
  },
  {
   "cell_type": "code",
   "execution_count": 8,
   "metadata": {},
   "outputs": [
    {
     "output_type": "execute_result",
     "data": {
      "text/plain": [
       "   Jonathan  Nishan  Terlo  Michael\n",
       "2         4       2      1        3"
      ],
      "text/html": "<div>\n<style scoped>\n    .dataframe tbody tr th:only-of-type {\n        vertical-align: middle;\n    }\n\n    .dataframe tbody tr th {\n        vertical-align: top;\n    }\n\n    .dataframe thead th {\n        text-align: right;\n    }\n</style>\n<table border=\"1\" class=\"dataframe\">\n  <thead>\n    <tr style=\"text-align: right;\">\n      <th></th>\n      <th>Jonathan</th>\n      <th>Nishan</th>\n      <th>Terlo</th>\n      <th>Michael</th>\n    </tr>\n  </thead>\n  <tbody>\n    <tr>\n      <th>2</th>\n      <td>4</td>\n      <td>2</td>\n      <td>1</td>\n      <td>3</td>\n    </tr>\n  </tbody>\n</table>\n</div>"
     },
     "metadata": {},
     "execution_count": 8
    }
   ],
   "source": [
    "best = non_trivial_choices.loc[non_trivial_choices['Score'] == non_trivial_choices['Score'].min()]\n",
    "best = best.drop([\"Score\"], axis=1)\n",
    "best.sample() # random choice in case of a tie"
   ]
  }
 ]
}